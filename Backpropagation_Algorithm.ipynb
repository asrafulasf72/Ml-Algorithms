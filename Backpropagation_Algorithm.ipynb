{
  "nbformat": 4,
  "nbformat_minor": 0,
  "metadata": {
    "colab": {
      "provenance": [],
      "authorship_tag": "ABX9TyPuspvsUYro+bD0ogucua+G",
      "include_colab_link": true
    },
    "kernelspec": {
      "name": "python3",
      "display_name": "Python 3"
    },
    "language_info": {
      "name": "python"
    }
  },
  "cells": [
    {
      "cell_type": "markdown",
      "metadata": {
        "id": "view-in-github",
        "colab_type": "text"
      },
      "source": [
        "<a href=\"https://colab.research.google.com/github/asrafulasf72/Ml-Algorithms/blob/main/Backpropagation_Algorithm.ipynb\" target=\"_parent\"><img src=\"https://colab.research.google.com/assets/colab-badge.svg\" alt=\"Open In Colab\"/></a>"
      ]
    },
    {
      "cell_type": "code",
      "execution_count": null,
      "metadata": {
        "id": "gUMSCyY1XsHH"
      },
      "outputs": [],
      "source": [
        "# ===== Backpropagation Lab - Single Page =====\n",
        "\n",
        "import numpy as np\n",
        "import pandas as pd\n",
        "from sklearn.datasets import load_iris\n",
        "from sklearn.model_selection import train_test_split\n",
        "\n",
        "# --- Load Dataset ---\n",
        "data = load_iris()\n",
        "X = data.data               # features\n",
        "y = data.target             # labels\n",
        "\n",
        "# --- One-hot encode labels ---\n",
        "y = np.eye(3)[y]            # convert to one-hot encoding\n",
        "\n",
        "# --- Split Data ---\n",
        "X_train, X_test, y_train, y_test = train_test_split(X, y, test_size=0.2, random_state=4)\n",
        "\n",
        "# --- Hyperparameters ---\n",
        "learning_rate = 0.1\n",
        "iterations = 5000\n",
        "input_size = 4\n",
        "hidden_size = 2\n",
        "output_size = 3\n",
        "N = X_train.shape[0]\n",
        "\n",
        "# --- Initialize Weights ---\n",
        "np.random.seed(10)\n",
        "W1 = np.random.normal(scale=0.5, size=(input_size, hidden_size))\n",
        "W2 = np.random.normal(scale=0.5, size=(hidden_size, output_size))\n",
        "\n",
        "# --- Helper Functions ---\n",
        "def sigmoid(x):\n",
        "    return 1 / (1 + np.exp(-x))\n",
        "\n",
        "def mean_squared_error(y_pred, y_true):\n",
        "    return ((y_pred - y_true)**2).sum() / (2 * y_pred.size)\n",
        "\n",
        "def accuracy(y_pred, y_true):\n",
        "    return (y_pred.argmax(axis=1) == y_true.argmax(axis=1)).mean()\n",
        "\n",
        "# --- Store Metrics ---\n",
        "results = pd.DataFrame(columns=[\"mse\", \"accuracy\"])\n",
        "\n",
        "# --- Training Loop ---\n",
        "for itr in range(iterations):\n",
        "    # Forward Propagation\n",
        "    Z1 = np.dot(X_train, W1)\n",
        "    A1 = sigmoid(Z1)\n",
        "    Z2 = np.dot(A1, W2)\n",
        "    A2 = sigmoid(Z2)\n",
        "\n",
        "    # Compute Metrics\n",
        "    mse = mean_squared_error(A2, y_train)\n",
        "    acc = accuracy(A2, y_train)\n",
        "    results = results.append({\"mse\": mse, \"accuracy\": acc}, ignore_index=True)\n",
        "\n",
        "    # Backpropagation\n",
        "    E2 = A2 - y_train\n",
        "    dW2 = np.dot(A1.T, E2 * A2 * (1 - A2)) / N\n",
        "\n",
        "    E1 = np.dot(E2 * A2 * (1 - A2), W2.T)\n",
        "    dW1 = np.dot(X_train.T, E1 * A1 * (1 - A1)) / N\n",
        "\n",
        "    # Update Weights\n",
        "    W2 -= learning_rate * dW2\n",
        "    W1 -= learning_rate * dW1\n",
        "\n",
        "# --- Testing ---\n",
        "Z1_test = np.dot(X_test, W1)\n",
        "A1_test = sigmoid(Z1_test)\n",
        "Z2_test = np.dot(A1_test, W2)\n",
        "A2_test = sigmoid(Z2_test)\n",
        "test_acc = accuracy(A2_test, y_test)\n",
        "\n",
        "print(\"Test Accuracy:\", test_acc)\n",
        "\n",
        "# --- Optional: Plot MSE and Accuracy ---\n",
        "import matplotlib.pyplot as plt\n",
        "plt.figure(figsize=(10,4))\n",
        "plt.subplot(1,2,1)\n",
        "plt.plot(results.mse); plt.title(\"MSE\")\n",
        "plt.subplot(1,2,2)\n",
        "plt.plot(results.accuracy); plt.title(\"Accuracy\")\n",
        "plt.show()\n"
      ]
    }
  ]
}