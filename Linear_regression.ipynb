{
  "nbformat": 4,
  "nbformat_minor": 0,
  "metadata": {
    "colab": {
      "provenance": [],
      "authorship_tag": "ABX9TyOR3ZxtdMhIExQ4tdfB5tg9",
      "include_colab_link": true
    },
    "kernelspec": {
      "name": "python3",
      "display_name": "Python 3"
    },
    "language_info": {
      "name": "python"
    }
  },
  "cells": [
    {
      "cell_type": "markdown",
      "metadata": {
        "id": "view-in-github",
        "colab_type": "text"
      },
      "source": [
        "<a href=\"https://colab.research.google.com/github/asrafulasf72/Ml-Algorithms/blob/main/Linear_regression.ipynb\" target=\"_parent\"><img src=\"https://colab.research.google.com/assets/colab-badge.svg\" alt=\"Open In Colab\"/></a>"
      ]
    },
    {
      "cell_type": "code",
      "execution_count": null,
      "metadata": {
        "id": "n8KT6-hsWJmT"
      },
      "outputs": [],
      "source": [
        "# 1. Importing necessary libraries\n",
        "import pandas as pd               # For data manipulation\n",
        "import numpy as np                # For numerical operations\n",
        "import matplotlib.pyplot as plt   # For plotting\n",
        "%matplotlib inline                # To show plots in Jupyter Notebook\n",
        "\n",
        "# 2. Load dataset\n",
        "dataset = pd.read_csv('/content/drive/MyDrive/student_scores.csv')  # Load CSV file\n",
        "print(dataset.head())  # Display first 5 rows\n",
        "\n",
        "# 3. Visualize data\n",
        "dataset.plot(x='Hours', y='Scores', style='o')  # Scatter plot of Hours vs Scores\n",
        "plt.title('Hours vs Percentage')                # Title of the plot\n",
        "plt.xlabel('Hours Studied')                     # X-axis label\n",
        "plt.ylabel('Percentage Score')                  # Y-axis label\n",
        "plt.show()                                      # Show plot\n",
        "\n",
        "# 4. Split dataset into attributes (X) and labels (y)\n",
        "X = dataset.iloc[:, :-1].values   # Select all columns except last one\n",
        "y = dataset.iloc[:, 1].values     # Select last column (Scores)\n",
        "\n",
        "# 5. Split dataset into training and test sets\n",
        "from sklearn.model_selection import train_test_split\n",
        "X_train, X_test, y_train, y_test = train_test_split(X, y, test_size=0.2, random_state=0)\n",
        "\n",
        "# 6. Train Linear Regression model\n",
        "from sklearn.linear_model import LinearRegression\n",
        "regressor = LinearRegression()   # Create Linear Regression object\n",
        "regressor.fit(X_train, y_train)  # Train model on training data\n",
        "\n",
        "# 7. Print model parameters\n",
        "print(\"Intercept (a0):\", regressor.intercept_)  # Intercept\n",
        "print(\"Coefficient (a1):\", regressor.coef_)    # Slope\n",
        "\n",
        "# 8. Make predictions on test set\n",
        "y_pred = regressor.predict(X_test)  # Predict scores for test data\n",
        "\n",
        "# 9. Compare actual vs predicted\n",
        "df = pd.DataFrame({'Actual': y_test, 'Predicted': y_pred})\n",
        "print(df.head())\n",
        "\n",
        "# 10. Evaluate model performance\n",
        "from sklearn import metrics\n",
        "mse = metrics.mean_squared_error(y_test, y_pred)  # Mean Squared Error\n",
        "print('Mean Squared Error:', mse)\n"
      ]
    }
  ]
}