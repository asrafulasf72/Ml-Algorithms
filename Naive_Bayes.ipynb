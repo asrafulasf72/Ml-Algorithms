{
  "nbformat": 4,
  "nbformat_minor": 0,
  "metadata": {
    "colab": {
      "provenance": [],
      "authorship_tag": "ABX9TyNHSkiH3OWb4MKqyzEByTe3",
      "include_colab_link": true
    },
    "kernelspec": {
      "name": "python3",
      "display_name": "Python 3"
    },
    "language_info": {
      "name": "python"
    }
  },
  "cells": [
    {
      "cell_type": "markdown",
      "metadata": {
        "id": "view-in-github",
        "colab_type": "text"
      },
      "source": [
        "<a href=\"https://colab.research.google.com/github/asrafulasf72/Ml-Algorithms/blob/main/Naive_Bayes.ipynb\" target=\"_parent\"><img src=\"https://colab.research.google.com/assets/colab-badge.svg\" alt=\"Open In Colab\"/></a>"
      ]
    },
    {
      "cell_type": "code",
      "execution_count": null,
      "metadata": {
        "id": "Ve5bW6NQWAB4"
      },
      "outputs": [],
      "source": [
        "# Naïve Bayes Classifier for SMS Spam Detection\n",
        "import pandas as pd\n",
        "import numpy as np\n",
        "from sklearn.model_selection import train_test_split\n",
        "from sklearn.feature_extraction.text import CountVectorizer\n",
        "from sklearn.naive_bayes import MultinomialNB\n",
        "from sklearn.metrics import confusion_matrix\n",
        "\n",
        "# 1. Load dataset\n",
        "df = pd.read_table(\"SMSSpamCollection\", sep=\"\\t\", header=None, names=[\"label\", \"message\"])\n",
        "\n",
        "# 2. Convert labels to numbers (ham=0, spam=1)\n",
        "df[\"label\"] = df.label.map({\"ham\": 0, \"spam\": 1})\n",
        "\n",
        "# 3. Split dataset into training and testing\n",
        "X_train, X_test, y_train, y_test = train_test_split(df[\"message\"], df[\"label\"], random_state=1)\n",
        "\n",
        "print(\"Original dataset contains\", df.shape[0], \"messages\")\n",
        "print(\"Training set contains\", X_train.shape[0], \"messages\")\n",
        "print(\"Testing set contains\", X_test.shape[0], \"messages\")\n",
        "\n",
        "# 4. Convert text into word counts (Bag of Words)\n",
        "count_vector = CountVectorizer()\n",
        "train = count_vector.fit_transform(X_train)\n",
        "test = count_vector.transform(X_test)\n",
        "\n",
        "# 5. Train Naïve Bayes classifier\n",
        "naive_bayes = MultinomialNB()\n",
        "naive_bayes.fit(train, y_train)\n",
        "\n",
        "# 6. Make predictions & check accuracy\n",
        "predictions = naive_bayes.predict(test)\n",
        "print(\"Accuracy:\", np.mean(predictions == y_test))\n",
        "\n",
        "# 7. Confusion Matrix\n",
        "print(\"Confusion Matrix:\")\n",
        "print(confusion_matrix(y_test, predictions))\n"
      ]
    }
  ]
}