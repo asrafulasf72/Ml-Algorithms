{
  "nbformat": 4,
  "nbformat_minor": 0,
  "metadata": {
    "colab": {
      "provenance": [],
      "authorship_tag": "ABX9TyP7enCaFSSAr+B1fmnb/VrK",
      "include_colab_link": true
    },
    "kernelspec": {
      "name": "python3",
      "display_name": "Python 3"
    },
    "language_info": {
      "name": "python"
    }
  },
  "cells": [
    {
      "cell_type": "markdown",
      "metadata": {
        "id": "view-in-github",
        "colab_type": "text"
      },
      "source": [
        "<a href=\"https://colab.research.google.com/github/asrafulasf72/Ml-Algorithms/blob/main/K_means_Clustering_Algorithm.ipynb\" target=\"_parent\"><img src=\"https://colab.research.google.com/assets/colab-badge.svg\" alt=\"Open In Colab\"/></a>"
      ]
    },
    {
      "cell_type": "code",
      "execution_count": null,
      "metadata": {
        "id": "Jevi_27CVr17"
      },
      "outputs": [],
      "source": [
        "# Import libraries\n",
        "import pandas as pd\n",
        "import numpy as np\n",
        "from sklearn import datasets\n",
        "from sklearn.cluster import KMeans\n",
        "import matplotlib.pyplot as plt\n",
        "import matplotlib.patches as mpatches\n",
        "import sklearn.metrics as sm\n",
        "\n",
        "# Load dataset\n",
        "iris = datasets.load_iris()\n",
        "\n",
        "# Convert into DataFrame\n",
        "x = pd.DataFrame(iris.data, columns=['SL','SW','PL','PW'])\n",
        "y = pd.DataFrame(iris.target, columns=['Target'])\n",
        "\n",
        "# Visualize data\n",
        "plt.figure(figsize=(12,3))\n",
        "colors = np.array(['red','green','blue'])\n",
        "red_patch = mpatches.Patch(color='red', label='Setosa')\n",
        "green_patch = mpatches.Patch(color='green', label='Versicolor')\n",
        "blue_patch = mpatches.Patch(color='blue', label='Virginica')\n",
        "\n",
        "plt.subplot(1,2,1)\n",
        "plt.scatter(x['SL'], x['SW'], c=colors[y['Target']])\n",
        "plt.title('Sepal Length vs Sepal Width')\n",
        "plt.legend(handles=[red_patch, green_patch, blue_patch])\n",
        "\n",
        "plt.subplot(1,2,2)\n",
        "plt.scatter(x['PL'], x['PW'], c=colors[y['Target']])\n",
        "plt.title('Petal Length vs Petal Width')\n",
        "plt.legend(handles=[red_patch, green_patch, blue_patch])\n",
        "plt.show()\n",
        "\n",
        "# Train KMeans model\n",
        "iris_k_mean_model = KMeans(n_clusters=3)\n",
        "iris_k_mean_model.fit(x)\n",
        "\n",
        "# Predictions\n",
        "predictedY = np.choose(iris_k_mean_model.labels_, [1,0,2]).astype(np.int64)\n",
        "\n",
        "# Compare before vs after classification\n",
        "plt.figure(figsize=(12,3))\n",
        "\n",
        "plt.subplot(1,2,1)\n",
        "plt.scatter(x['PL'], x['PW'], c=colors[y['Target']])\n",
        "plt.title('Before classification')\n",
        "plt.legend(handles=[red_patch, green_patch, blue_patch])\n",
        "\n",
        "plt.subplot(1,2,2)\n",
        "plt.scatter(x['PL'], x['PW'], c=colors[predictedY])\n",
        "plt.title(\"Model's classification\")\n",
        "plt.legend(handles=[red_patch, green_patch, blue_patch])\n",
        "plt.show()\n",
        "\n",
        "# Accuracy and Confusion Matrix\n",
        "print(\"Accuracy:\", sm.accuracy_score(predictedY, y['Target']))\n",
        "print(\"Confusion Matrix:\\n\", sm.confusion_matrix(predictedY, y['Target']))\n"
      ]
    }
  ]
}