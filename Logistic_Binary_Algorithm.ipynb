{
  "nbformat": 4,
  "nbformat_minor": 0,
  "metadata": {
    "colab": {
      "provenance": [],
      "authorship_tag": "ABX9TyOVCyela1EJkWD0RwPJdUSl",
      "include_colab_link": true
    },
    "kernelspec": {
      "name": "python3",
      "display_name": "Python 3"
    },
    "language_info": {
      "name": "python"
    }
  },
  "cells": [
    {
      "cell_type": "markdown",
      "metadata": {
        "id": "view-in-github",
        "colab_type": "text"
      },
      "source": [
        "<a href=\"https://colab.research.google.com/github/asrafulasf72/Ml-Algorithms/blob/main/Logistic_Binary_Algorithm.ipynb\" target=\"_parent\"><img src=\"https://colab.research.google.com/assets/colab-badge.svg\" alt=\"Open In Colab\"/></a>"
      ]
    },
    {
      "cell_type": "code",
      "execution_count": null,
      "metadata": {
        "id": "mWXsqHHSWurC"
      },
      "outputs": [],
      "source": [
        "import numpy as np\n",
        "\n",
        "# Step 1: Sigmoid function\n",
        "def sigmoid(z):\n",
        "    return 1 / (1 + np.exp(-z))\n",
        "\n",
        "# Step 2: Initialize parameters\n",
        "def initialize_params(n_features):\n",
        "    theta = np.zeros((n_features, 1))  # weights\n",
        "    bias = 0                           # bias\n",
        "    return theta, bias\n",
        "\n",
        "# Step 3: Forward and backward propagation\n",
        "def propagate(X, Y, theta, bias):\n",
        "    m = X.shape[0]  # number of samples\n",
        "\n",
        "    # Forward propagation\n",
        "    Z = np.dot(X, theta) + bias  # linear combination\n",
        "    A = sigmoid(Z)               # apply sigmoid to get probability\n",
        "    cost = -1/m * np.sum(Y*np.log(A) + (1-Y)*np.log(1-A))  # binary cross-entropy loss\n",
        "\n",
        "    # Backward propagation\n",
        "    dtheta = 1/m * np.dot(X.T, (A - Y))\n",
        "    dbias = 1/m * np.sum(A - Y)\n",
        "\n",
        "    grads = {\"dtheta\": dtheta, \"dbias\": dbias}\n",
        "    return grads, cost\n",
        "\n",
        "# Step 4: Gradient descent\n",
        "def optimize(X, Y, theta, bias, learning_rate, num_iterations):\n",
        "    costs = []\n",
        "\n",
        "    for i in range(num_iterations):\n",
        "        grads, cost = propagate(X, Y, theta, bias)\n",
        "        theta -= learning_rate * grads[\"dtheta\"]\n",
        "        bias -= learning_rate * grads[\"dbias\"]\n",
        "        if i % 100 == 0:\n",
        "            costs.append(cost)\n",
        "            print(f\"Iteration {i}: Cost {cost}\")\n",
        "    return theta, bias, costs\n",
        "\n",
        "# Step 5: Predict\n",
        "def predict(X, theta, bias):\n",
        "    Z = np.dot(X, theta) + bias\n",
        "    A = sigmoid(Z)\n",
        "    return (A > 0.5).astype(int)\n"
      ]
    }
  ]
}